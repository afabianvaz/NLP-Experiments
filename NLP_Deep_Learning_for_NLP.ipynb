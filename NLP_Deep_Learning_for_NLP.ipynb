{
  "nbformat": 4,
  "nbformat_minor": 0,
  "metadata": {
    "colab": {
      "name": "NLP_Project_10_Deep Learning for NLP.ipynb",
      "provenance": []
    },
    "kernelspec": {
      "name": "python3",
      "display_name": "Python 3"
    },
    "language_info": {
      "name": "python"
    }
  },
  "cells": [
    {
      "cell_type": "code",
      "metadata": {
        "id": "TFhwS7x3ztw-"
      },
      "source": [
        "import pandas as pd\n",
        "import numpy as np"
      ],
      "execution_count": null,
      "outputs": []
    },
    {
      "cell_type": "code",
      "metadata": {
        "id": "dWfmgYpX0HNQ"
      },
      "source": [
        "from sklearn.datasets import load_iris"
      ],
      "execution_count": null,
      "outputs": []
    },
    {
      "cell_type": "code",
      "metadata": {
        "id": "oPFKszL70OTJ"
      },
      "source": [
        "iris = load_iris()"
      ],
      "execution_count": null,
      "outputs": []
    },
    {
      "cell_type": "code",
      "metadata": {
        "colab": {
          "base_uri": "https://localhost:8080/"
        },
        "id": "nHr9NOGb0QdK",
        "outputId": "05548dd6-6e32-420d-d0ee-4b6650c2b523"
      },
      "source": [
        "type(iris)"
      ],
      "execution_count": null,
      "outputs": [
        {
          "output_type": "execute_result",
          "data": {
            "text/plain": [
              "sklearn.utils.Bunch"
            ]
          },
          "metadata": {
            "tags": []
          },
          "execution_count": 4
        }
      ]
    },
    {
      "cell_type": "code",
      "metadata": {
        "colab": {
          "base_uri": "https://localhost:8080/"
        },
        "id": "4OuOxFJP0dyx",
        "outputId": "a356ce17-6744-4ee6-f926-ce8407a1cf29"
      },
      "source": [
        "print(iris.DESCR)"
      ],
      "execution_count": null,
      "outputs": [
        {
          "output_type": "stream",
          "text": [
            ".. _iris_dataset:\n",
            "\n",
            "Iris plants dataset\n",
            "--------------------\n",
            "\n",
            "**Data Set Characteristics:**\n",
            "\n",
            "    :Number of Instances: 150 (50 in each of three classes)\n",
            "    :Number of Attributes: 4 numeric, predictive attributes and the class\n",
            "    :Attribute Information:\n",
            "        - sepal length in cm\n",
            "        - sepal width in cm\n",
            "        - petal length in cm\n",
            "        - petal width in cm\n",
            "        - class:\n",
            "                - Iris-Setosa\n",
            "                - Iris-Versicolour\n",
            "                - Iris-Virginica\n",
            "                \n",
            "    :Summary Statistics:\n",
            "\n",
            "    ============== ==== ==== ======= ===== ====================\n",
            "                    Min  Max   Mean    SD   Class Correlation\n",
            "    ============== ==== ==== ======= ===== ====================\n",
            "    sepal length:   4.3  7.9   5.84   0.83    0.7826\n",
            "    sepal width:    2.0  4.4   3.05   0.43   -0.4194\n",
            "    petal length:   1.0  6.9   3.76   1.76    0.9490  (high!)\n",
            "    petal width:    0.1  2.5   1.20   0.76    0.9565  (high!)\n",
            "    ============== ==== ==== ======= ===== ====================\n",
            "\n",
            "    :Missing Attribute Values: None\n",
            "    :Class Distribution: 33.3% for each of 3 classes.\n",
            "    :Creator: R.A. Fisher\n",
            "    :Donor: Michael Marshall (MARSHALL%PLU@io.arc.nasa.gov)\n",
            "    :Date: July, 1988\n",
            "\n",
            "The famous Iris database, first used by Sir R.A. Fisher. The dataset is taken\n",
            "from Fisher's paper. Note that it's the same as in R, but not as in the UCI\n",
            "Machine Learning Repository, which has two wrong data points.\n",
            "\n",
            "This is perhaps the best known database to be found in the\n",
            "pattern recognition literature.  Fisher's paper is a classic in the field and\n",
            "is referenced frequently to this day.  (See Duda & Hart, for example.)  The\n",
            "data set contains 3 classes of 50 instances each, where each class refers to a\n",
            "type of iris plant.  One class is linearly separable from the other 2; the\n",
            "latter are NOT linearly separable from each other.\n",
            "\n",
            ".. topic:: References\n",
            "\n",
            "   - Fisher, R.A. \"The use of multiple measurements in taxonomic problems\"\n",
            "     Annual Eugenics, 7, Part II, 179-188 (1936); also in \"Contributions to\n",
            "     Mathematical Statistics\" (John Wiley, NY, 1950).\n",
            "   - Duda, R.O., & Hart, P.E. (1973) Pattern Classification and Scene Analysis.\n",
            "     (Q327.D83) John Wiley & Sons.  ISBN 0-471-22361-1.  See page 218.\n",
            "   - Dasarathy, B.V. (1980) \"Nosing Around the Neighborhood: A New System\n",
            "     Structure and Classification Rule for Recognition in Partially Exposed\n",
            "     Environments\".  IEEE Transactions on Pattern Analysis and Machine\n",
            "     Intelligence, Vol. PAMI-2, No. 1, 67-71.\n",
            "   - Gates, G.W. (1972) \"The Reduced Nearest Neighbor Rule\".  IEEE Transactions\n",
            "     on Information Theory, May 1972, 431-433.\n",
            "   - See also: 1988 MLC Proceedings, 54-64.  Cheeseman et al\"s AUTOCLASS II\n",
            "     conceptual clustering system finds 3 classes in the data.\n",
            "   - Many, many more ...\n"
          ],
          "name": "stdout"
        }
      ]
    },
    {
      "cell_type": "code",
      "metadata": {
        "id": "7JaWX5Tz0gZF"
      },
      "source": [
        "X = iris.data"
      ],
      "execution_count": null,
      "outputs": []
    },
    {
      "cell_type": "code",
      "metadata": {
        "colab": {
          "base_uri": "https://localhost:8080/"
        },
        "id": "17zWyw1P0tGi",
        "outputId": "e4a0182f-dbef-424c-f1af-82788989011f"
      },
      "source": [
        "X"
      ],
      "execution_count": null,
      "outputs": [
        {
          "output_type": "execute_result",
          "data": {
            "text/plain": [
              "array([[5.1, 3.5, 1.4, 0.2],\n",
              "       [4.9, 3. , 1.4, 0.2],\n",
              "       [4.7, 3.2, 1.3, 0.2],\n",
              "       [4.6, 3.1, 1.5, 0.2],\n",
              "       [5. , 3.6, 1.4, 0.2],\n",
              "       [5.4, 3.9, 1.7, 0.4],\n",
              "       [4.6, 3.4, 1.4, 0.3],\n",
              "       [5. , 3.4, 1.5, 0.2],\n",
              "       [4.4, 2.9, 1.4, 0.2],\n",
              "       [4.9, 3.1, 1.5, 0.1],\n",
              "       [5.4, 3.7, 1.5, 0.2],\n",
              "       [4.8, 3.4, 1.6, 0.2],\n",
              "       [4.8, 3. , 1.4, 0.1],\n",
              "       [4.3, 3. , 1.1, 0.1],\n",
              "       [5.8, 4. , 1.2, 0.2],\n",
              "       [5.7, 4.4, 1.5, 0.4],\n",
              "       [5.4, 3.9, 1.3, 0.4],\n",
              "       [5.1, 3.5, 1.4, 0.3],\n",
              "       [5.7, 3.8, 1.7, 0.3],\n",
              "       [5.1, 3.8, 1.5, 0.3],\n",
              "       [5.4, 3.4, 1.7, 0.2],\n",
              "       [5.1, 3.7, 1.5, 0.4],\n",
              "       [4.6, 3.6, 1. , 0.2],\n",
              "       [5.1, 3.3, 1.7, 0.5],\n",
              "       [4.8, 3.4, 1.9, 0.2],\n",
              "       [5. , 3. , 1.6, 0.2],\n",
              "       [5. , 3.4, 1.6, 0.4],\n",
              "       [5.2, 3.5, 1.5, 0.2],\n",
              "       [5.2, 3.4, 1.4, 0.2],\n",
              "       [4.7, 3.2, 1.6, 0.2],\n",
              "       [4.8, 3.1, 1.6, 0.2],\n",
              "       [5.4, 3.4, 1.5, 0.4],\n",
              "       [5.2, 4.1, 1.5, 0.1],\n",
              "       [5.5, 4.2, 1.4, 0.2],\n",
              "       [4.9, 3.1, 1.5, 0.2],\n",
              "       [5. , 3.2, 1.2, 0.2],\n",
              "       [5.5, 3.5, 1.3, 0.2],\n",
              "       [4.9, 3.6, 1.4, 0.1],\n",
              "       [4.4, 3. , 1.3, 0.2],\n",
              "       [5.1, 3.4, 1.5, 0.2],\n",
              "       [5. , 3.5, 1.3, 0.3],\n",
              "       [4.5, 2.3, 1.3, 0.3],\n",
              "       [4.4, 3.2, 1.3, 0.2],\n",
              "       [5. , 3.5, 1.6, 0.6],\n",
              "       [5.1, 3.8, 1.9, 0.4],\n",
              "       [4.8, 3. , 1.4, 0.3],\n",
              "       [5.1, 3.8, 1.6, 0.2],\n",
              "       [4.6, 3.2, 1.4, 0.2],\n",
              "       [5.3, 3.7, 1.5, 0.2],\n",
              "       [5. , 3.3, 1.4, 0.2],\n",
              "       [7. , 3.2, 4.7, 1.4],\n",
              "       [6.4, 3.2, 4.5, 1.5],\n",
              "       [6.9, 3.1, 4.9, 1.5],\n",
              "       [5.5, 2.3, 4. , 1.3],\n",
              "       [6.5, 2.8, 4.6, 1.5],\n",
              "       [5.7, 2.8, 4.5, 1.3],\n",
              "       [6.3, 3.3, 4.7, 1.6],\n",
              "       [4.9, 2.4, 3.3, 1. ],\n",
              "       [6.6, 2.9, 4.6, 1.3],\n",
              "       [5.2, 2.7, 3.9, 1.4],\n",
              "       [5. , 2. , 3.5, 1. ],\n",
              "       [5.9, 3. , 4.2, 1.5],\n",
              "       [6. , 2.2, 4. , 1. ],\n",
              "       [6.1, 2.9, 4.7, 1.4],\n",
              "       [5.6, 2.9, 3.6, 1.3],\n",
              "       [6.7, 3.1, 4.4, 1.4],\n",
              "       [5.6, 3. , 4.5, 1.5],\n",
              "       [5.8, 2.7, 4.1, 1. ],\n",
              "       [6.2, 2.2, 4.5, 1.5],\n",
              "       [5.6, 2.5, 3.9, 1.1],\n",
              "       [5.9, 3.2, 4.8, 1.8],\n",
              "       [6.1, 2.8, 4. , 1.3],\n",
              "       [6.3, 2.5, 4.9, 1.5],\n",
              "       [6.1, 2.8, 4.7, 1.2],\n",
              "       [6.4, 2.9, 4.3, 1.3],\n",
              "       [6.6, 3. , 4.4, 1.4],\n",
              "       [6.8, 2.8, 4.8, 1.4],\n",
              "       [6.7, 3. , 5. , 1.7],\n",
              "       [6. , 2.9, 4.5, 1.5],\n",
              "       [5.7, 2.6, 3.5, 1. ],\n",
              "       [5.5, 2.4, 3.8, 1.1],\n",
              "       [5.5, 2.4, 3.7, 1. ],\n",
              "       [5.8, 2.7, 3.9, 1.2],\n",
              "       [6. , 2.7, 5.1, 1.6],\n",
              "       [5.4, 3. , 4.5, 1.5],\n",
              "       [6. , 3.4, 4.5, 1.6],\n",
              "       [6.7, 3.1, 4.7, 1.5],\n",
              "       [6.3, 2.3, 4.4, 1.3],\n",
              "       [5.6, 3. , 4.1, 1.3],\n",
              "       [5.5, 2.5, 4. , 1.3],\n",
              "       [5.5, 2.6, 4.4, 1.2],\n",
              "       [6.1, 3. , 4.6, 1.4],\n",
              "       [5.8, 2.6, 4. , 1.2],\n",
              "       [5. , 2.3, 3.3, 1. ],\n",
              "       [5.6, 2.7, 4.2, 1.3],\n",
              "       [5.7, 3. , 4.2, 1.2],\n",
              "       [5.7, 2.9, 4.2, 1.3],\n",
              "       [6.2, 2.9, 4.3, 1.3],\n",
              "       [5.1, 2.5, 3. , 1.1],\n",
              "       [5.7, 2.8, 4.1, 1.3],\n",
              "       [6.3, 3.3, 6. , 2.5],\n",
              "       [5.8, 2.7, 5.1, 1.9],\n",
              "       [7.1, 3. , 5.9, 2.1],\n",
              "       [6.3, 2.9, 5.6, 1.8],\n",
              "       [6.5, 3. , 5.8, 2.2],\n",
              "       [7.6, 3. , 6.6, 2.1],\n",
              "       [4.9, 2.5, 4.5, 1.7],\n",
              "       [7.3, 2.9, 6.3, 1.8],\n",
              "       [6.7, 2.5, 5.8, 1.8],\n",
              "       [7.2, 3.6, 6.1, 2.5],\n",
              "       [6.5, 3.2, 5.1, 2. ],\n",
              "       [6.4, 2.7, 5.3, 1.9],\n",
              "       [6.8, 3. , 5.5, 2.1],\n",
              "       [5.7, 2.5, 5. , 2. ],\n",
              "       [5.8, 2.8, 5.1, 2.4],\n",
              "       [6.4, 3.2, 5.3, 2.3],\n",
              "       [6.5, 3. , 5.5, 1.8],\n",
              "       [7.7, 3.8, 6.7, 2.2],\n",
              "       [7.7, 2.6, 6.9, 2.3],\n",
              "       [6. , 2.2, 5. , 1.5],\n",
              "       [6.9, 3.2, 5.7, 2.3],\n",
              "       [5.6, 2.8, 4.9, 2. ],\n",
              "       [7.7, 2.8, 6.7, 2. ],\n",
              "       [6.3, 2.7, 4.9, 1.8],\n",
              "       [6.7, 3.3, 5.7, 2.1],\n",
              "       [7.2, 3.2, 6. , 1.8],\n",
              "       [6.2, 2.8, 4.8, 1.8],\n",
              "       [6.1, 3. , 4.9, 1.8],\n",
              "       [6.4, 2.8, 5.6, 2.1],\n",
              "       [7.2, 3. , 5.8, 1.6],\n",
              "       [7.4, 2.8, 6.1, 1.9],\n",
              "       [7.9, 3.8, 6.4, 2. ],\n",
              "       [6.4, 2.8, 5.6, 2.2],\n",
              "       [6.3, 2.8, 5.1, 1.5],\n",
              "       [6.1, 2.6, 5.6, 1.4],\n",
              "       [7.7, 3. , 6.1, 2.3],\n",
              "       [6.3, 3.4, 5.6, 2.4],\n",
              "       [6.4, 3.1, 5.5, 1.8],\n",
              "       [6. , 3. , 4.8, 1.8],\n",
              "       [6.9, 3.1, 5.4, 2.1],\n",
              "       [6.7, 3.1, 5.6, 2.4],\n",
              "       [6.9, 3.1, 5.1, 2.3],\n",
              "       [5.8, 2.7, 5.1, 1.9],\n",
              "       [6.8, 3.2, 5.9, 2.3],\n",
              "       [6.7, 3.3, 5.7, 2.5],\n",
              "       [6.7, 3. , 5.2, 2.3],\n",
              "       [6.3, 2.5, 5. , 1.9],\n",
              "       [6.5, 3. , 5.2, 2. ],\n",
              "       [6.2, 3.4, 5.4, 2.3],\n",
              "       [5.9, 3. , 5.1, 1.8]])"
            ]
          },
          "metadata": {
            "tags": []
          },
          "execution_count": 7
        }
      ]
    },
    {
      "cell_type": "code",
      "metadata": {
        "id": "dCrYKeP20th1"
      },
      "source": [
        "y = iris.target"
      ],
      "execution_count": null,
      "outputs": []
    },
    {
      "cell_type": "code",
      "metadata": {
        "colab": {
          "base_uri": "https://localhost:8080/"
        },
        "id": "GSkH7-U60zsI",
        "outputId": "10eb488e-317b-41d0-fe71-2dd2659c3c5e"
      },
      "source": [
        "y"
      ],
      "execution_count": null,
      "outputs": [
        {
          "output_type": "execute_result",
          "data": {
            "text/plain": [
              "array([0, 0, 0, 0, 0, 0, 0, 0, 0, 0, 0, 0, 0, 0, 0, 0, 0, 0, 0, 0, 0, 0,\n",
              "       0, 0, 0, 0, 0, 0, 0, 0, 0, 0, 0, 0, 0, 0, 0, 0, 0, 0, 0, 0, 0, 0,\n",
              "       0, 0, 0, 0, 0, 0, 1, 1, 1, 1, 1, 1, 1, 1, 1, 1, 1, 1, 1, 1, 1, 1,\n",
              "       1, 1, 1, 1, 1, 1, 1, 1, 1, 1, 1, 1, 1, 1, 1, 1, 1, 1, 1, 1, 1, 1,\n",
              "       1, 1, 1, 1, 1, 1, 1, 1, 1, 1, 1, 1, 2, 2, 2, 2, 2, 2, 2, 2, 2, 2,\n",
              "       2, 2, 2, 2, 2, 2, 2, 2, 2, 2, 2, 2, 2, 2, 2, 2, 2, 2, 2, 2, 2, 2,\n",
              "       2, 2, 2, 2, 2, 2, 2, 2, 2, 2, 2, 2, 2, 2, 2, 2, 2, 2])"
            ]
          },
          "metadata": {
            "tags": []
          },
          "execution_count": 9
        }
      ]
    },
    {
      "cell_type": "code",
      "metadata": {
        "id": "hwPEJ6WF00Ab"
      },
      "source": [
        "# Keras needs categorical data so we are going to convert this by one hot encoding\n",
        "\n",
        "# class 0 ----> [1,0,0]\n",
        "# class 1 ----> [0,1,0]\n",
        "# class 2 ----> [0,0,1]"
      ],
      "execution_count": null,
      "outputs": []
    },
    {
      "cell_type": "code",
      "metadata": {
        "id": "vGyDpKhl1pJ-"
      },
      "source": [
        "from keras.utils import to_categorical"
      ],
      "execution_count": null,
      "outputs": []
    },
    {
      "cell_type": "code",
      "metadata": {
        "id": "F36qhX8Y10uE"
      },
      "source": [
        "y = to_categorical(y)"
      ],
      "execution_count": null,
      "outputs": []
    },
    {
      "cell_type": "code",
      "metadata": {
        "colab": {
          "base_uri": "https://localhost:8080/"
        },
        "id": "K2muNrnY12_R",
        "outputId": "9b67d7f1-ec08-45f1-8234-af4b05c15387"
      },
      "source": [
        "y.shape"
      ],
      "execution_count": null,
      "outputs": [
        {
          "output_type": "execute_result",
          "data": {
            "text/plain": [
              "(150, 3)"
            ]
          },
          "metadata": {
            "tags": []
          },
          "execution_count": 13
        }
      ]
    },
    {
      "cell_type": "code",
      "metadata": {
        "colab": {
          "base_uri": "https://localhost:8080/"
        },
        "id": "uq5febV_135X",
        "outputId": "ce9b479d-7619-4a54-afbd-9786fbf110dd"
      },
      "source": [
        "y"
      ],
      "execution_count": null,
      "outputs": [
        {
          "output_type": "execute_result",
          "data": {
            "text/plain": [
              "array([[1., 0., 0.],\n",
              "       [1., 0., 0.],\n",
              "       [1., 0., 0.],\n",
              "       [1., 0., 0.],\n",
              "       [1., 0., 0.],\n",
              "       [1., 0., 0.],\n",
              "       [1., 0., 0.],\n",
              "       [1., 0., 0.],\n",
              "       [1., 0., 0.],\n",
              "       [1., 0., 0.],\n",
              "       [1., 0., 0.],\n",
              "       [1., 0., 0.],\n",
              "       [1., 0., 0.],\n",
              "       [1., 0., 0.],\n",
              "       [1., 0., 0.],\n",
              "       [1., 0., 0.],\n",
              "       [1., 0., 0.],\n",
              "       [1., 0., 0.],\n",
              "       [1., 0., 0.],\n",
              "       [1., 0., 0.],\n",
              "       [1., 0., 0.],\n",
              "       [1., 0., 0.],\n",
              "       [1., 0., 0.],\n",
              "       [1., 0., 0.],\n",
              "       [1., 0., 0.],\n",
              "       [1., 0., 0.],\n",
              "       [1., 0., 0.],\n",
              "       [1., 0., 0.],\n",
              "       [1., 0., 0.],\n",
              "       [1., 0., 0.],\n",
              "       [1., 0., 0.],\n",
              "       [1., 0., 0.],\n",
              "       [1., 0., 0.],\n",
              "       [1., 0., 0.],\n",
              "       [1., 0., 0.],\n",
              "       [1., 0., 0.],\n",
              "       [1., 0., 0.],\n",
              "       [1., 0., 0.],\n",
              "       [1., 0., 0.],\n",
              "       [1., 0., 0.],\n",
              "       [1., 0., 0.],\n",
              "       [1., 0., 0.],\n",
              "       [1., 0., 0.],\n",
              "       [1., 0., 0.],\n",
              "       [1., 0., 0.],\n",
              "       [1., 0., 0.],\n",
              "       [1., 0., 0.],\n",
              "       [1., 0., 0.],\n",
              "       [1., 0., 0.],\n",
              "       [1., 0., 0.],\n",
              "       [0., 1., 0.],\n",
              "       [0., 1., 0.],\n",
              "       [0., 1., 0.],\n",
              "       [0., 1., 0.],\n",
              "       [0., 1., 0.],\n",
              "       [0., 1., 0.],\n",
              "       [0., 1., 0.],\n",
              "       [0., 1., 0.],\n",
              "       [0., 1., 0.],\n",
              "       [0., 1., 0.],\n",
              "       [0., 1., 0.],\n",
              "       [0., 1., 0.],\n",
              "       [0., 1., 0.],\n",
              "       [0., 1., 0.],\n",
              "       [0., 1., 0.],\n",
              "       [0., 1., 0.],\n",
              "       [0., 1., 0.],\n",
              "       [0., 1., 0.],\n",
              "       [0., 1., 0.],\n",
              "       [0., 1., 0.],\n",
              "       [0., 1., 0.],\n",
              "       [0., 1., 0.],\n",
              "       [0., 1., 0.],\n",
              "       [0., 1., 0.],\n",
              "       [0., 1., 0.],\n",
              "       [0., 1., 0.],\n",
              "       [0., 1., 0.],\n",
              "       [0., 1., 0.],\n",
              "       [0., 1., 0.],\n",
              "       [0., 1., 0.],\n",
              "       [0., 1., 0.],\n",
              "       [0., 1., 0.],\n",
              "       [0., 1., 0.],\n",
              "       [0., 1., 0.],\n",
              "       [0., 1., 0.],\n",
              "       [0., 1., 0.],\n",
              "       [0., 1., 0.],\n",
              "       [0., 1., 0.],\n",
              "       [0., 1., 0.],\n",
              "       [0., 1., 0.],\n",
              "       [0., 1., 0.],\n",
              "       [0., 1., 0.],\n",
              "       [0., 1., 0.],\n",
              "       [0., 1., 0.],\n",
              "       [0., 1., 0.],\n",
              "       [0., 1., 0.],\n",
              "       [0., 1., 0.],\n",
              "       [0., 1., 0.],\n",
              "       [0., 1., 0.],\n",
              "       [0., 1., 0.],\n",
              "       [0., 0., 1.],\n",
              "       [0., 0., 1.],\n",
              "       [0., 0., 1.],\n",
              "       [0., 0., 1.],\n",
              "       [0., 0., 1.],\n",
              "       [0., 0., 1.],\n",
              "       [0., 0., 1.],\n",
              "       [0., 0., 1.],\n",
              "       [0., 0., 1.],\n",
              "       [0., 0., 1.],\n",
              "       [0., 0., 1.],\n",
              "       [0., 0., 1.],\n",
              "       [0., 0., 1.],\n",
              "       [0., 0., 1.],\n",
              "       [0., 0., 1.],\n",
              "       [0., 0., 1.],\n",
              "       [0., 0., 1.],\n",
              "       [0., 0., 1.],\n",
              "       [0., 0., 1.],\n",
              "       [0., 0., 1.],\n",
              "       [0., 0., 1.],\n",
              "       [0., 0., 1.],\n",
              "       [0., 0., 1.],\n",
              "       [0., 0., 1.],\n",
              "       [0., 0., 1.],\n",
              "       [0., 0., 1.],\n",
              "       [0., 0., 1.],\n",
              "       [0., 0., 1.],\n",
              "       [0., 0., 1.],\n",
              "       [0., 0., 1.],\n",
              "       [0., 0., 1.],\n",
              "       [0., 0., 1.],\n",
              "       [0., 0., 1.],\n",
              "       [0., 0., 1.],\n",
              "       [0., 0., 1.],\n",
              "       [0., 0., 1.],\n",
              "       [0., 0., 1.],\n",
              "       [0., 0., 1.],\n",
              "       [0., 0., 1.],\n",
              "       [0., 0., 1.],\n",
              "       [0., 0., 1.],\n",
              "       [0., 0., 1.],\n",
              "       [0., 0., 1.],\n",
              "       [0., 0., 1.],\n",
              "       [0., 0., 1.],\n",
              "       [0., 0., 1.],\n",
              "       [0., 0., 1.],\n",
              "       [0., 0., 1.],\n",
              "       [0., 0., 1.],\n",
              "       [0., 0., 1.]], dtype=float32)"
            ]
          },
          "metadata": {
            "tags": []
          },
          "execution_count": 14
        }
      ]
    },
    {
      "cell_type": "code",
      "metadata": {
        "id": "Dq98GGfc14tG"
      },
      "source": [
        "from sklearn.model_selection import train_test_split"
      ],
      "execution_count": null,
      "outputs": []
    },
    {
      "cell_type": "code",
      "metadata": {
        "id": "Q57sPmW62Ca4"
      },
      "source": [
        "X_train, X_test, y_train, y_test = train_test_split(X, y, test_size =0.33, random_state = 42)"
      ],
      "execution_count": null,
      "outputs": []
    },
    {
      "cell_type": "code",
      "metadata": {
        "id": "0xb5yClz2QIE"
      },
      "source": [
        "#y_test"
      ],
      "execution_count": null,
      "outputs": []
    },
    {
      "cell_type": "code",
      "metadata": {
        "id": "n_-yp9tz2R8y"
      },
      "source": [
        "from sklearn.preprocessing import MinMaxScaler"
      ],
      "execution_count": null,
      "outputs": []
    },
    {
      "cell_type": "code",
      "metadata": {
        "id": "7z7KiC8b2wjX"
      },
      "source": [
        "scaler_object = MinMaxScaler()"
      ],
      "execution_count": null,
      "outputs": []
    },
    {
      "cell_type": "code",
      "metadata": {
        "colab": {
          "base_uri": "https://localhost:8080/"
        },
        "id": "V7HA2obn20J8",
        "outputId": "ede36de8-33fa-4a84-bb59-c63f18f4dd55"
      },
      "source": [
        "scaler_object.fit(X_train)"
      ],
      "execution_count": null,
      "outputs": [
        {
          "output_type": "execute_result",
          "data": {
            "text/plain": [
              "MinMaxScaler(copy=True, feature_range=(0, 1))"
            ]
          },
          "metadata": {
            "tags": []
          },
          "execution_count": 21
        }
      ]
    },
    {
      "cell_type": "code",
      "metadata": {
        "id": "xUMSVefA228F"
      },
      "source": [
        "scaled_X_train= scaler_object.transform(X_train)"
      ],
      "execution_count": null,
      "outputs": []
    },
    {
      "cell_type": "code",
      "metadata": {
        "id": "wwBEbMED3E7p"
      },
      "source": [
        "scaled_X_test = scaler_object.transform(X_test)"
      ],
      "execution_count": null,
      "outputs": []
    },
    {
      "cell_type": "code",
      "metadata": {
        "id": "dk52OfUT3KiN"
      },
      "source": [
        "#scaled_X_train"
      ],
      "execution_count": null,
      "outputs": []
    },
    {
      "cell_type": "code",
      "metadata": {
        "id": "w9wTS-XK3N07"
      },
      "source": [
        "#scaled_X_test"
      ],
      "execution_count": null,
      "outputs": []
    },
    {
      "cell_type": "code",
      "metadata": {
        "id": "ju0vWHEi3tJS"
      },
      "source": [
        "from keras.models import Sequential\n",
        "from keras.layers import Dense"
      ],
      "execution_count": null,
      "outputs": []
    },
    {
      "cell_type": "code",
      "metadata": {
        "id": "TrF9-pYM38dd"
      },
      "source": [
        "model = Sequential()\n",
        "model.add(Dense(8, input_dim=4, activation='relu'))# input layer\n",
        "model.add(Dense(8, input_dim=4, activation='relu')) # input layer \n",
        "model.add(Dense(3, activation='softmax')) # output layer\n",
        "model.compile(loss='categorical_crossentropy', optimizer='adam',metrics=['accuracy'])\n",
        "\n",
        "#def __init__(units, activation=None, use_bias=True, kernel_initializer='glorot_uniform', bias_initializer='zeros', \n",
        "#kernel_regularizer=None, bias_regularizer=None, activity_regularizer=None, kernel_constraint=None, bias_constraint=None, **kwargs"
      ],
      "execution_count": null,
      "outputs": []
    },
    {
      "cell_type": "code",
      "metadata": {
        "colab": {
          "base_uri": "https://localhost:8080/"
        },
        "id": "MCmaYNTe4BSo",
        "outputId": "76e94a84-966b-4c55-f5ea-b91f6d8ae476"
      },
      "source": [
        "model.summary()"
      ],
      "execution_count": null,
      "outputs": [
        {
          "output_type": "stream",
          "text": [
            "Model: \"sequential_3\"\n",
            "_________________________________________________________________\n",
            "Layer (type)                 Output Shape              Param #   \n",
            "=================================================================\n",
            "dense_6 (Dense)              (None, 8)                 40        \n",
            "_________________________________________________________________\n",
            "dense_7 (Dense)              (None, 8)                 72        \n",
            "_________________________________________________________________\n",
            "dense_8 (Dense)              (None, 3)                 27        \n",
            "=================================================================\n",
            "Total params: 139\n",
            "Trainable params: 139\n",
            "Non-trainable params: 0\n",
            "_________________________________________________________________\n"
          ],
          "name": "stdout"
        }
      ]
    },
    {
      "cell_type": "code",
      "metadata": {
        "colab": {
          "base_uri": "https://localhost:8080/"
        },
        "id": "UzRrWFRy51AW",
        "outputId": "96ce8868-c333-42c6-8026-53ceea44f914"
      },
      "source": [
        "model.fit(scaler_X_train, y_train, epochs=150, verbose=2)"
      ],
      "execution_count": null,
      "outputs": [
        {
          "output_type": "stream",
          "text": [
            "Epoch 1/150\n",
            "4/4 - 0s - loss: 1.1438 - accuracy: 0.3100\n",
            "Epoch 2/150\n",
            "4/4 - 0s - loss: 1.1327 - accuracy: 0.3100\n",
            "Epoch 3/150\n",
            "4/4 - 0s - loss: 1.1226 - accuracy: 0.3100\n",
            "Epoch 4/150\n",
            "4/4 - 0s - loss: 1.1139 - accuracy: 0.3100\n",
            "Epoch 5/150\n",
            "4/4 - 0s - loss: 1.1057 - accuracy: 0.3200\n",
            "Epoch 6/150\n",
            "4/4 - 0s - loss: 1.0980 - accuracy: 0.3800\n",
            "Epoch 7/150\n",
            "4/4 - 0s - loss: 1.0913 - accuracy: 0.4700\n",
            "Epoch 8/150\n",
            "4/4 - 0s - loss: 1.0845 - accuracy: 0.5500\n",
            "Epoch 9/150\n",
            "4/4 - 0s - loss: 1.0783 - accuracy: 0.6000\n",
            "Epoch 10/150\n",
            "4/4 - 0s - loss: 1.0728 - accuracy: 0.6100\n",
            "Epoch 11/150\n",
            "4/4 - 0s - loss: 1.0672 - accuracy: 0.6300\n",
            "Epoch 12/150\n",
            "4/4 - 0s - loss: 1.0619 - accuracy: 0.6300\n",
            "Epoch 13/150\n",
            "4/4 - 0s - loss: 1.0564 - accuracy: 0.6300\n",
            "Epoch 14/150\n",
            "4/4 - 0s - loss: 1.0512 - accuracy: 0.6300\n",
            "Epoch 15/150\n",
            "4/4 - 0s - loss: 1.0459 - accuracy: 0.6400\n",
            "Epoch 16/150\n",
            "4/4 - 0s - loss: 1.0405 - accuracy: 0.6400\n",
            "Epoch 17/150\n",
            "4/4 - 0s - loss: 1.0349 - accuracy: 0.6400\n",
            "Epoch 18/150\n",
            "4/4 - 0s - loss: 1.0295 - accuracy: 0.6400\n",
            "Epoch 19/150\n",
            "4/4 - 0s - loss: 1.0235 - accuracy: 0.6400\n",
            "Epoch 20/150\n",
            "4/4 - 0s - loss: 1.0175 - accuracy: 0.6400\n",
            "Epoch 21/150\n",
            "4/4 - 0s - loss: 1.0112 - accuracy: 0.6400\n",
            "Epoch 22/150\n",
            "4/4 - 0s - loss: 1.0050 - accuracy: 0.6400\n",
            "Epoch 23/150\n",
            "4/4 - 0s - loss: 0.9984 - accuracy: 0.6400\n",
            "Epoch 24/150\n",
            "4/4 - 0s - loss: 0.9917 - accuracy: 0.6400\n",
            "Epoch 25/150\n",
            "4/4 - 0s - loss: 0.9848 - accuracy: 0.6400\n",
            "Epoch 26/150\n",
            "4/4 - 0s - loss: 0.9779 - accuracy: 0.6400\n",
            "Epoch 27/150\n",
            "4/4 - 0s - loss: 0.9706 - accuracy: 0.6500\n",
            "Epoch 28/150\n",
            "4/4 - 0s - loss: 0.9633 - accuracy: 0.6500\n",
            "Epoch 29/150\n",
            "4/4 - 0s - loss: 0.9557 - accuracy: 0.6500\n",
            "Epoch 30/150\n",
            "4/4 - 0s - loss: 0.9477 - accuracy: 0.6500\n",
            "Epoch 31/150\n",
            "4/4 - 0s - loss: 0.9395 - accuracy: 0.6600\n",
            "Epoch 32/150\n",
            "4/4 - 0s - loss: 0.9316 - accuracy: 0.6500\n",
            "Epoch 33/150\n",
            "4/4 - 0s - loss: 0.9228 - accuracy: 0.6500\n",
            "Epoch 34/150\n",
            "4/4 - 0s - loss: 0.9145 - accuracy: 0.6500\n",
            "Epoch 35/150\n",
            "4/4 - 0s - loss: 0.9061 - accuracy: 0.6500\n",
            "Epoch 36/150\n",
            "4/4 - 0s - loss: 0.8972 - accuracy: 0.6500\n",
            "Epoch 37/150\n",
            "4/4 - 0s - loss: 0.8884 - accuracy: 0.6500\n",
            "Epoch 38/150\n",
            "4/4 - 0s - loss: 0.8791 - accuracy: 0.6500\n",
            "Epoch 39/150\n",
            "4/4 - 0s - loss: 0.8706 - accuracy: 0.6500\n",
            "Epoch 40/150\n",
            "4/4 - 0s - loss: 0.8614 - accuracy: 0.6500\n",
            "Epoch 41/150\n",
            "4/4 - 0s - loss: 0.8516 - accuracy: 0.6500\n",
            "Epoch 42/150\n",
            "4/4 - 0s - loss: 0.8411 - accuracy: 0.6500\n",
            "Epoch 43/150\n",
            "4/4 - 0s - loss: 0.8311 - accuracy: 0.6500\n",
            "Epoch 44/150\n",
            "4/4 - 0s - loss: 0.8210 - accuracy: 0.6500\n",
            "Epoch 45/150\n",
            "4/4 - 0s - loss: 0.8118 - accuracy: 0.6500\n",
            "Epoch 46/150\n",
            "4/4 - 0s - loss: 0.8021 - accuracy: 0.6500\n",
            "Epoch 47/150\n",
            "4/4 - 0s - loss: 0.7927 - accuracy: 0.6500\n",
            "Epoch 48/150\n",
            "4/4 - 0s - loss: 0.7835 - accuracy: 0.6500\n",
            "Epoch 49/150\n",
            "4/4 - 0s - loss: 0.7743 - accuracy: 0.6500\n",
            "Epoch 50/150\n",
            "4/4 - 0s - loss: 0.7650 - accuracy: 0.6500\n",
            "Epoch 51/150\n",
            "4/4 - 0s - loss: 0.7558 - accuracy: 0.6500\n",
            "Epoch 52/150\n",
            "4/4 - 0s - loss: 0.7470 - accuracy: 0.6500\n",
            "Epoch 53/150\n",
            "4/4 - 0s - loss: 0.7381 - accuracy: 0.6600\n",
            "Epoch 54/150\n",
            "4/4 - 0s - loss: 0.7298 - accuracy: 0.6600\n",
            "Epoch 55/150\n",
            "4/4 - 0s - loss: 0.7213 - accuracy: 0.6600\n",
            "Epoch 56/150\n",
            "4/4 - 0s - loss: 0.7127 - accuracy: 0.6600\n",
            "Epoch 57/150\n",
            "4/4 - 0s - loss: 0.7045 - accuracy: 0.6500\n",
            "Epoch 58/150\n",
            "4/4 - 0s - loss: 0.6966 - accuracy: 0.6500\n",
            "Epoch 59/150\n",
            "4/4 - 0s - loss: 0.6882 - accuracy: 0.6500\n",
            "Epoch 60/150\n",
            "4/4 - 0s - loss: 0.6803 - accuracy: 0.6600\n",
            "Epoch 61/150\n",
            "4/4 - 0s - loss: 0.6719 - accuracy: 0.6600\n",
            "Epoch 62/150\n",
            "4/4 - 0s - loss: 0.6645 - accuracy: 0.6600\n",
            "Epoch 63/150\n",
            "4/4 - 0s - loss: 0.6568 - accuracy: 0.6600\n",
            "Epoch 64/150\n",
            "4/4 - 0s - loss: 0.6493 - accuracy: 0.6600\n",
            "Epoch 65/150\n",
            "4/4 - 0s - loss: 0.6414 - accuracy: 0.6700\n",
            "Epoch 66/150\n",
            "4/4 - 0s - loss: 0.6345 - accuracy: 0.6800\n",
            "Epoch 67/150\n",
            "4/4 - 0s - loss: 0.6276 - accuracy: 0.6900\n",
            "Epoch 68/150\n",
            "4/4 - 0s - loss: 0.6209 - accuracy: 0.7000\n",
            "Epoch 69/150\n",
            "4/4 - 0s - loss: 0.6144 - accuracy: 0.7000\n",
            "Epoch 70/150\n",
            "4/4 - 0s - loss: 0.6078 - accuracy: 0.7000\n",
            "Epoch 71/150\n",
            "4/4 - 0s - loss: 0.6011 - accuracy: 0.7100\n",
            "Epoch 72/150\n",
            "4/4 - 0s - loss: 0.5947 - accuracy: 0.7100\n",
            "Epoch 73/150\n",
            "4/4 - 0s - loss: 0.5883 - accuracy: 0.7100\n",
            "Epoch 74/150\n",
            "4/4 - 0s - loss: 0.5819 - accuracy: 0.7100\n",
            "Epoch 75/150\n",
            "4/4 - 0s - loss: 0.5757 - accuracy: 0.7100\n",
            "Epoch 76/150\n",
            "4/4 - 0s - loss: 0.5696 - accuracy: 0.7300\n",
            "Epoch 77/150\n",
            "4/4 - 0s - loss: 0.5633 - accuracy: 0.7400\n",
            "Epoch 78/150\n",
            "4/4 - 0s - loss: 0.5580 - accuracy: 0.7600\n",
            "Epoch 79/150\n",
            "4/4 - 0s - loss: 0.5518 - accuracy: 0.7900\n",
            "Epoch 80/150\n",
            "4/4 - 0s - loss: 0.5461 - accuracy: 0.7900\n",
            "Epoch 81/150\n",
            "4/4 - 0s - loss: 0.5406 - accuracy: 0.7700\n",
            "Epoch 82/150\n",
            "4/4 - 0s - loss: 0.5359 - accuracy: 0.7500\n",
            "Epoch 83/150\n",
            "4/4 - 0s - loss: 0.5310 - accuracy: 0.7400\n",
            "Epoch 84/150\n",
            "4/4 - 0s - loss: 0.5258 - accuracy: 0.7500\n",
            "Epoch 85/150\n",
            "4/4 - 0s - loss: 0.5207 - accuracy: 0.7600\n",
            "Epoch 86/150\n",
            "4/4 - 0s - loss: 0.5157 - accuracy: 0.7800\n",
            "Epoch 87/150\n",
            "4/4 - 0s - loss: 0.5109 - accuracy: 0.8000\n",
            "Epoch 88/150\n",
            "4/4 - 0s - loss: 0.5062 - accuracy: 0.8100\n",
            "Epoch 89/150\n",
            "4/4 - 0s - loss: 0.5016 - accuracy: 0.8200\n",
            "Epoch 90/150\n",
            "4/4 - 0s - loss: 0.4975 - accuracy: 0.8500\n",
            "Epoch 91/150\n",
            "4/4 - 0s - loss: 0.4935 - accuracy: 0.8600\n",
            "Epoch 92/150\n",
            "4/4 - 0s - loss: 0.4894 - accuracy: 0.8800\n",
            "Epoch 93/150\n",
            "4/4 - 0s - loss: 0.4850 - accuracy: 0.8600\n",
            "Epoch 94/150\n",
            "4/4 - 0s - loss: 0.4810 - accuracy: 0.8600\n",
            "Epoch 95/150\n",
            "4/4 - 0s - loss: 0.4771 - accuracy: 0.8500\n",
            "Epoch 96/150\n",
            "4/4 - 0s - loss: 0.4734 - accuracy: 0.8200\n",
            "Epoch 97/150\n",
            "4/4 - 0s - loss: 0.4696 - accuracy: 0.8200\n",
            "Epoch 98/150\n",
            "4/4 - 0s - loss: 0.4655 - accuracy: 0.8200\n",
            "Epoch 99/150\n",
            "4/4 - 0s - loss: 0.4620 - accuracy: 0.8500\n",
            "Epoch 100/150\n",
            "4/4 - 0s - loss: 0.4574 - accuracy: 0.8800\n",
            "Epoch 101/150\n",
            "4/4 - 0s - loss: 0.4539 - accuracy: 0.8800\n",
            "Epoch 102/150\n",
            "4/4 - 0s - loss: 0.4501 - accuracy: 0.8700\n",
            "Epoch 103/150\n",
            "4/4 - 0s - loss: 0.4466 - accuracy: 0.8700\n",
            "Epoch 104/150\n",
            "4/4 - 0s - loss: 0.4438 - accuracy: 0.8600\n",
            "Epoch 105/150\n",
            "4/4 - 0s - loss: 0.4404 - accuracy: 0.8500\n",
            "Epoch 106/150\n",
            "4/4 - 0s - loss: 0.4370 - accuracy: 0.8600\n",
            "Epoch 107/150\n",
            "4/4 - 0s - loss: 0.4339 - accuracy: 0.8900\n",
            "Epoch 108/150\n",
            "4/4 - 0s - loss: 0.4306 - accuracy: 0.9000\n",
            "Epoch 109/150\n",
            "4/4 - 0s - loss: 0.4272 - accuracy: 0.8900\n",
            "Epoch 110/150\n",
            "4/4 - 0s - loss: 0.4252 - accuracy: 0.8600\n",
            "Epoch 111/150\n",
            "4/4 - 0s - loss: 0.4233 - accuracy: 0.8400\n",
            "Epoch 112/150\n",
            "4/4 - 0s - loss: 0.4209 - accuracy: 0.8300\n",
            "Epoch 113/150\n",
            "4/4 - 0s - loss: 0.4165 - accuracy: 0.8700\n",
            "Epoch 114/150\n",
            "4/4 - 0s - loss: 0.4135 - accuracy: 0.9000\n",
            "Epoch 115/150\n",
            "4/4 - 0s - loss: 0.4102 - accuracy: 0.9000\n",
            "Epoch 116/150\n",
            "4/4 - 0s - loss: 0.4075 - accuracy: 0.9300\n",
            "Epoch 117/150\n",
            "4/4 - 0s - loss: 0.4066 - accuracy: 0.9300\n",
            "Epoch 118/150\n",
            "4/4 - 0s - loss: 0.4044 - accuracy: 0.9400\n",
            "Epoch 119/150\n",
            "4/4 - 0s - loss: 0.4015 - accuracy: 0.9400\n",
            "Epoch 120/150\n",
            "4/4 - 0s - loss: 0.3978 - accuracy: 0.9300\n",
            "Epoch 121/150\n",
            "4/4 - 0s - loss: 0.3945 - accuracy: 0.9300\n",
            "Epoch 122/150\n",
            "4/4 - 0s - loss: 0.3920 - accuracy: 0.9300\n",
            "Epoch 123/150\n",
            "4/4 - 0s - loss: 0.3895 - accuracy: 0.9300\n",
            "Epoch 124/150\n",
            "4/4 - 0s - loss: 0.3868 - accuracy: 0.9300\n",
            "Epoch 125/150\n",
            "4/4 - 0s - loss: 0.3844 - accuracy: 0.9300\n",
            "Epoch 126/150\n",
            "4/4 - 0s - loss: 0.3827 - accuracy: 0.9400\n",
            "Epoch 127/150\n",
            "4/4 - 0s - loss: 0.3805 - accuracy: 0.9400\n",
            "Epoch 128/150\n",
            "4/4 - 0s - loss: 0.3780 - accuracy: 0.9400\n",
            "Epoch 129/150\n",
            "4/4 - 0s - loss: 0.3742 - accuracy: 0.9300\n",
            "Epoch 130/150\n",
            "4/4 - 0s - loss: 0.3722 - accuracy: 0.9300\n",
            "Epoch 131/150\n",
            "4/4 - 0s - loss: 0.3721 - accuracy: 0.9100\n",
            "Epoch 132/150\n",
            "4/4 - 0s - loss: 0.3710 - accuracy: 0.9000\n",
            "Epoch 133/150\n",
            "4/4 - 0s - loss: 0.3678 - accuracy: 0.9000\n",
            "Epoch 134/150\n",
            "4/4 - 0s - loss: 0.3643 - accuracy: 0.9300\n",
            "Epoch 135/150\n",
            "4/4 - 0s - loss: 0.3614 - accuracy: 0.9300\n",
            "Epoch 136/150\n",
            "4/4 - 0s - loss: 0.3591 - accuracy: 0.9400\n",
            "Epoch 137/150\n",
            "4/4 - 0s - loss: 0.3571 - accuracy: 0.9400\n",
            "Epoch 138/150\n",
            "4/4 - 0s - loss: 0.3555 - accuracy: 0.9400\n",
            "Epoch 139/150\n",
            "4/4 - 0s - loss: 0.3534 - accuracy: 0.9400\n",
            "Epoch 140/150\n",
            "4/4 - 0s - loss: 0.3510 - accuracy: 0.9400\n",
            "Epoch 141/150\n",
            "4/4 - 0s - loss: 0.3484 - accuracy: 0.9400\n",
            "Epoch 142/150\n",
            "4/4 - 0s - loss: 0.3451 - accuracy: 0.9300\n",
            "Epoch 143/150\n",
            "4/4 - 0s - loss: 0.3460 - accuracy: 0.9300\n",
            "Epoch 144/150\n",
            "4/4 - 0s - loss: 0.3445 - accuracy: 0.9300\n",
            "Epoch 145/150\n",
            "4/4 - 0s - loss: 0.3420 - accuracy: 0.9300\n",
            "Epoch 146/150\n",
            "4/4 - 0s - loss: 0.3396 - accuracy: 0.9300\n",
            "Epoch 147/150\n",
            "4/4 - 0s - loss: 0.3366 - accuracy: 0.9300\n",
            "Epoch 148/150\n",
            "4/4 - 0s - loss: 0.3344 - accuracy: 0.9400\n",
            "Epoch 149/150\n",
            "4/4 - 0s - loss: 0.3338 - accuracy: 0.9300\n",
            "Epoch 150/150\n",
            "4/4 - 0s - loss: 0.3334 - accuracy: 0.9300\n"
          ],
          "name": "stdout"
        },
        {
          "output_type": "execute_result",
          "data": {
            "text/plain": [
              "<tensorflow.python.keras.callbacks.History at 0x7f37a7da5950>"
            ]
          },
          "metadata": {
            "tags": []
          },
          "execution_count": 43
        }
      ]
    },
    {
      "cell_type": "code",
      "metadata": {
        "id": "IPNAlmjV7_RD"
      },
      "source": [
        "#scaled_X_test"
      ],
      "execution_count": null,
      "outputs": []
    },
    {
      "cell_type": "code",
      "metadata": {
        "colab": {
          "base_uri": "https://localhost:8080/"
        },
        "id": "5dASn4Gr8QBY",
        "outputId": "14b90ba0-84bf-41a9-817c-0f250bb43b5d"
      },
      "source": [
        "model.predict_classes(scaled_X_test)"
      ],
      "execution_count": null,
      "outputs": [
        {
          "output_type": "stream",
          "text": [
            "/usr/local/lib/python3.7/dist-packages/tensorflow/python/keras/engine/sequential.py:450: UserWarning: `model.predict_classes()` is deprecated and will be removed after 2021-01-01. Please use instead:* `np.argmax(model.predict(x), axis=-1)`,   if your model does multi-class classification   (e.g. if it uses a `softmax` last-layer activation).* `(model.predict(x) > 0.5).astype(\"int32\")`,   if your model does binary classification   (e.g. if it uses a `sigmoid` last-layer activation).\n",
            "  warnings.warn('`model.predict_classes()` is deprecated and '\n"
          ],
          "name": "stderr"
        },
        {
          "output_type": "execute_result",
          "data": {
            "text/plain": [
              "array([1, 0, 2, 1, 2, 0, 1, 2, 2, 1, 2, 0, 0, 0, 0, 1, 2, 1, 1, 2, 0, 2,\n",
              "       0, 2, 2, 2, 2, 2, 0, 0, 0, 0, 1, 0, 0, 2, 1, 0, 0, 0, 2, 1, 1, 0,\n",
              "       0, 1, 1, 2, 1, 2])"
            ]
          },
          "metadata": {
            "tags": []
          },
          "execution_count": 46
        }
      ]
    },
    {
      "cell_type": "code",
      "metadata": {
        "colab": {
          "base_uri": "https://localhost:8080/"
        },
        "id": "5K9RN8jQ8nkB",
        "outputId": "1c3fc832-d49b-48db-e085-a4672223e10f"
      },
      "source": [
        "predictions = model.predict_classes(scaled_X_test)\n",
        "\n",
        "#predictions = np.argmax(model.predict_classes(scaled_X_test), axis=-1)"
      ],
      "execution_count": null,
      "outputs": [
        {
          "output_type": "stream",
          "text": [
            "/usr/local/lib/python3.7/dist-packages/tensorflow/python/keras/engine/sequential.py:450: UserWarning: `model.predict_classes()` is deprecated and will be removed after 2021-01-01. Please use instead:* `np.argmax(model.predict(x), axis=-1)`,   if your model does multi-class classification   (e.g. if it uses a `softmax` last-layer activation).* `(model.predict(x) > 0.5).astype(\"int32\")`,   if your model does binary classification   (e.g. if it uses a `sigmoid` last-layer activation).\n",
            "  warnings.warn('`model.predict_classes()` is deprecated and '\n"
          ],
          "name": "stderr"
        }
      ]
    },
    {
      "cell_type": "code",
      "metadata": {
        "colab": {
          "base_uri": "https://localhost:8080/"
        },
        "id": "_tCVNmU483Lp",
        "outputId": "d52aa607-5b19-4fab-a614-1549b139d522"
      },
      "source": [
        "y_test.argmax(axis=1)"
      ],
      "execution_count": null,
      "outputs": [
        {
          "output_type": "execute_result",
          "data": {
            "text/plain": [
              "array([1, 0, 2, 1, 1, 0, 1, 2, 1, 1, 2, 0, 0, 0, 0, 1, 2, 1, 1, 2, 0, 2,\n",
              "       0, 2, 2, 2, 2, 2, 0, 0, 0, 0, 1, 0, 0, 2, 1, 0, 0, 0, 2, 1, 1, 0,\n",
              "       0, 1, 2, 2, 1, 2])"
            ]
          },
          "metadata": {
            "tags": []
          },
          "execution_count": 51
        }
      ]
    },
    {
      "cell_type": "code",
      "metadata": {
        "id": "iilEzylT87Cs"
      },
      "source": [
        "from sklearn.metrics import confusion_matrix, classification_report, accuracy_score"
      ],
      "execution_count": null,
      "outputs": []
    },
    {
      "cell_type": "code",
      "metadata": {
        "colab": {
          "base_uri": "https://localhost:8080/"
        },
        "id": "q4ZfR0sC9zCA",
        "outputId": "b512792e-1999-4f2b-9baf-ac04c9d20cf5"
      },
      "source": [
        "confusion_matrix(y_test.argmax(axis=1), predictions)"
      ],
      "execution_count": null,
      "outputs": [
        {
          "output_type": "execute_result",
          "data": {
            "text/plain": [
              "array([[19,  0,  0],\n",
              "       [ 0, 13,  2],\n",
              "       [ 0,  1, 15]])"
            ]
          },
          "metadata": {
            "tags": []
          },
          "execution_count": 53
        }
      ]
    },
    {
      "cell_type": "code",
      "metadata": {
        "colab": {
          "base_uri": "https://localhost:8080/"
        },
        "id": "3QQYaTlk952B",
        "outputId": "e399c28f-9fc6-4531-97e3-1b9ef8e04b65"
      },
      "source": [
        "print(classification_report(y_test.argmax(axis=1), predictions))"
      ],
      "execution_count": null,
      "outputs": [
        {
          "output_type": "stream",
          "text": [
            "              precision    recall  f1-score   support\n",
            "\n",
            "           0       1.00      1.00      1.00        19\n",
            "           1       0.93      0.87      0.90        15\n",
            "           2       0.88      0.94      0.91        16\n",
            "\n",
            "    accuracy                           0.94        50\n",
            "   macro avg       0.94      0.93      0.94        50\n",
            "weighted avg       0.94      0.94      0.94        50\n",
            "\n"
          ],
          "name": "stdout"
        }
      ]
    },
    {
      "cell_type": "code",
      "metadata": {
        "colab": {
          "base_uri": "https://localhost:8080/"
        },
        "id": "LvbTmJar-DQn",
        "outputId": "b75f3002-b4c7-47ed-8f5d-add9dbd3075e"
      },
      "source": [
        "accuracy_score(y_test.argmax(axis=1), predictions)"
      ],
      "execution_count": null,
      "outputs": [
        {
          "output_type": "execute_result",
          "data": {
            "text/plain": [
              "0.94"
            ]
          },
          "metadata": {
            "tags": []
          },
          "execution_count": 57
        }
      ]
    },
    {
      "cell_type": "code",
      "metadata": {
        "id": "zWR0pdkK-OFO"
      },
      "source": [
        "model.save('myfirstmodel.h5')"
      ],
      "execution_count": null,
      "outputs": []
    },
    {
      "cell_type": "code",
      "metadata": {
        "id": "Ib0KA1lr-bMu"
      },
      "source": [
        "from keras.models import load_model"
      ],
      "execution_count": null,
      "outputs": []
    },
    {
      "cell_type": "code",
      "metadata": {
        "id": "OJcuOrC3-f_L"
      },
      "source": [
        "new_model = load_model('myfirstmodel.h5')"
      ],
      "execution_count": null,
      "outputs": []
    },
    {
      "cell_type": "code",
      "metadata": {
        "id": "AMvH8XYi-oYg",
        "colab": {
          "base_uri": "https://localhost:8080/"
        },
        "outputId": "bfc658bc-1988-4757-c1c7-93ce81c38f0c"
      },
      "source": [
        "new_model.predict_classes(scaled_X_test)"
      ],
      "execution_count": null,
      "outputs": [
        {
          "output_type": "stream",
          "text": [
            "/usr/local/lib/python3.7/dist-packages/tensorflow/python/keras/engine/sequential.py:450: UserWarning: `model.predict_classes()` is deprecated and will be removed after 2021-01-01. Please use instead:* `np.argmax(model.predict(x), axis=-1)`,   if your model does multi-class classification   (e.g. if it uses a `softmax` last-layer activation).* `(model.predict(x) > 0.5).astype(\"int32\")`,   if your model does binary classification   (e.g. if it uses a `sigmoid` last-layer activation).\n",
            "  warnings.warn('`model.predict_classes()` is deprecated and '\n"
          ],
          "name": "stderr"
        },
        {
          "output_type": "execute_result",
          "data": {
            "text/plain": [
              "array([1, 0, 2, 1, 2, 0, 1, 2, 2, 1, 2, 0, 0, 0, 0, 1, 2, 1, 1, 2, 0, 2,\n",
              "       0, 2, 2, 2, 2, 2, 0, 0, 0, 0, 1, 0, 0, 2, 1, 0, 0, 0, 2, 1, 1, 0,\n",
              "       0, 1, 1, 2, 1, 2])"
            ]
          },
          "metadata": {
            "tags": []
          },
          "execution_count": 61
        }
      ]
    },
    {
      "cell_type": "code",
      "metadata": {
        "id": "n6B-JmEU-tIx"
      },
      "source": [
        ""
      ],
      "execution_count": null,
      "outputs": []
    }
  ]
}